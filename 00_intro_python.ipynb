{
  "nbformat": 4,
  "nbformat_minor": 0,
  "metadata": {
    "colab": {
      "provenance": [],
      "authorship_tag": "ABX9TyPGlRneoKI9kdlm+KyFicxT",
      "include_colab_link": true
    },
    "kernelspec": {
      "name": "python3",
      "display_name": "Python 3"
    },
    "language_info": {
      "name": "python"
    }
  },
  "cells": [
    {
      "cell_type": "markdown",
      "metadata": {
        "id": "view-in-github",
        "colab_type": "text"
      },
      "source": [
        "<a href=\"https://colab.research.google.com/github/waseemghazigithub/Assignment19042024/blob/main/00_intro_python.ipynb\" target=\"_parent\"><img src=\"https://colab.research.google.com/assets/colab-badge.svg\" alt=\"Open In Colab\"/></a>"
      ]
    },
    {
      "cell_type": "code",
      "source": [
        "print(\"01_add_two_numbers\\n\")\n",
        "def main():\n",
        "    print(\"This program adds two numbers.\")\n",
        "    num1 : str = input(\"Enter first number: \")\n",
        "\n",
        "    if num1 is None or num1.strip() == \"\":\n",
        "        print(\"Invalid number\")\n",
        "    else:\n",
        "        num1 = int(num1)\n",
        "\n",
        "    num2  : str = input(\"Enter second number: \")\n",
        "    if num2 is None or num2.strip() == \"\":\n",
        "        print(\"Invalid number\")\n",
        "    else:\n",
        "        num2 = int(num2)\n",
        "\n",
        "        total : int = num1 + num2\n",
        "        print(\"The total is \" + str(total) + \".\")\n",
        "\n",
        "\n",
        "#This provided line is required at the end of\n",
        "#Python file to call the main() function.\n",
        "if __name__ == '__main__':\n",
        "    main()"
      ],
      "metadata": {
        "id": "xE_17yAtO6VV"
      },
      "execution_count": null,
      "outputs": []
    },
    {
      "cell_type": "code",
      "execution_count": 3,
      "metadata": {
        "id": "P-9qfs50MKZG",
        "colab": {
          "base_uri": "https://localhost:8080/"
        },
        "outputId": "00499fbe-7b20-41b7-bae0-9d3e761a1dd3"
      },
      "outputs": [
        {
          "output_type": "stream",
          "name": "stdout",
          "text": [
            "02_agreement_bot\n",
            "\n",
            "Enter your favorite animal: camal\n",
            "Your favorite animal is camal!\n"
          ]
        }
      ],
      "source": [
        "print(\"02_agreement_bot\\n\")\n",
        "def main():\n",
        "   animal : str = input(\"Enter your favorite animal: \")\n",
        "   if animal.strip() and not animal.isdigit():\n",
        "       print(\"Your favorite animal is \" + animal + \"!\")\n",
        "   else:\n",
        "        print(\"Not a string.\")\n",
        "if __name__ == '__main__':\n",
        "    main()"
      ]
    },
    {
      "cell_type": "code",
      "source": [],
      "metadata": {
        "id": "uUlPnmCvPMPs"
      },
      "execution_count": null,
      "outputs": []
    }
  ]
}